{
 "cells": [
  {
   "cell_type": "markdown",
   "id": "58a3c63e-3aff-47e9-8a78-3d9ff3d54ae7",
   "metadata": {},
   "source": [
    "# Feature Engineering-6"
   ]
  },
  {
   "cell_type": "code",
   "execution_count": 1,
   "id": "bbc7426c-1fe2-49af-aa2c-11abfb2c977e",
   "metadata": {},
   "outputs": [
    {
     "name": "stdout",
     "output_type": "stream",
     "text": [
      "Q_1_ANS :- \n"
     ]
    }
   ],
   "source": [
    "print('''Q_1_ANS :- ''')"
   ]
  },
  {
   "cell_type": "code",
   "execution_count": 4,
   "id": "762e6900-be35-43d2-bdbc-c993bb927b63",
   "metadata": {},
   "outputs": [
    {
     "name": "stdout",
     "output_type": "stream",
     "text": [
      "Pearson Correlation Coefficient: 0.9637689195513992\n"
     ]
    }
   ],
   "source": [
    "import numpy as np\n",
    "\n",
    "\n",
    "study_time = [10, 8, 5, 7, 6, 9, 4, 7]  # Amount of time spent studying (in hours)\n",
    "exam_scores = [85, 80, 70, 75, 72, 88, 65, 78]  # Corresponding final exam scores\n",
    "\n",
    "\n",
    "correlation_coefficient = np.corrcoef(study_time, exam_scores)[0, 1]\n",
    "\n",
    "print(\"Pearson Correlation Coefficient:\", correlation_coefficient)\n"
   ]
  },
  {
   "cell_type": "code",
   "execution_count": 22,
   "id": "a27c345b-54b2-4d45-ad5d-221eac94176b",
   "metadata": {},
   "outputs": [
    {
     "name": "stdout",
     "output_type": "stream",
     "text": [
      "Interpretation:\n",
      "\n",
      "The Pearson correlation coefficient measures the strength and direction of the linear relationship between two variables, studying time and exam scores in this case. The correlation coefficient ranges from -1 to 1.\n"
     ]
    }
   ],
   "source": [
    "print(\"Interpretation:\\n\\nThe Pearson correlation coefficient measures the strength and direction of the linear relationship between two variables, studying time and exam scores in this case. The correlation coefficient ranges from -1 to 1.\")"
   ]
  },
  {
   "cell_type": "code",
   "execution_count": 5,
   "id": "8322b1cb-51c8-44e8-856e-ce40346499c3",
   "metadata": {},
   "outputs": [
    {
     "name": "stdout",
     "output_type": "stream",
     "text": [
      "Q_2_ANS :- \n"
     ]
    }
   ],
   "source": [
    "print('''Q_2_ANS :- ''')"
   ]
  },
  {
   "cell_type": "code",
   "execution_count": 9,
   "id": "db9d87fb-0a72-4bfd-806f-d52df4796dcc",
   "metadata": {},
   "outputs": [
    {
     "name": "stdout",
     "output_type": "stream",
     "text": [
      "Pearson Correlation Coefficient: 0.9912407071619305\n",
      "p-value: 0.0009828018977194213\n"
     ]
    }
   ],
   "source": [
    "import numpy as np\n",
    "from scipy.stats import pearsonr\n",
    "\n",
    "\n",
    "studying_time = [5, 3, 7, 4, 6]\n",
    "exam_score = [80, 65, 90, 70, 85]\n",
    "\n",
    "\n",
    "correlation_coefficient, p_value = pearsonr(studying_time, exam_score)\n",
    "\n",
    "print(\"Pearson Correlation Coefficient:\", correlation_coefficient)\n",
    "print(\"p-value:\", p_value)\n"
   ]
  },
  {
   "cell_type": "code",
   "execution_count": 23,
   "id": "eb55ab60-17d8-4a1b-903c-b8eeb10dd549",
   "metadata": {},
   "outputs": [
    {
     "name": "stdout",
     "output_type": "stream",
     "text": [
      "Interpretation:\n",
      "\n",
      "The Spearman's rank correlation coefficient measures the monotonic relationship between two variables, sleep duration and job satisfaction level in this case. The correlation coefficient ranges from -1 to 1.\n"
     ]
    }
   ],
   "source": [
    "print(\"Interpretation:\\n\\nThe Spearman's rank correlation coefficient measures the monotonic relationship between two variables, sleep duration and job satisfaction level in this case. The correlation coefficient ranges from -1 to 1.\")"
   ]
  },
  {
   "cell_type": "code",
   "execution_count": 10,
   "id": "e980465d-b4bb-4a41-b58b-27f323bc6987",
   "metadata": {},
   "outputs": [
    {
     "name": "stdout",
     "output_type": "stream",
     "text": [
      "Q_3_ANS :- \n"
     ]
    }
   ],
   "source": [
    "print('''Q_3_ANS :- ''')"
   ]
  },
  {
   "cell_type": "code",
   "execution_count": 11,
   "id": "7f4fce77-0b5d-49fe-b104-4424dbefbc8a",
   "metadata": {},
   "outputs": [
    {
     "name": "stdout",
     "output_type": "stream",
     "text": [
      "Pearson Correlation Coefficient: 0.9\n",
      "Pearson p-value: 0.03738607346849864\n",
      "Spearman's Rank Correlation Coefficient: 0.8999999999999998\n",
      "Spearman p-value: 0.03738607346849874\n"
     ]
    }
   ],
   "source": [
    "import numpy as np\n",
    "from scipy.stats import pearsonr,spearmanr\n",
    "\n",
    "exercise_hours = [3, 5, 2, 4, 6]\n",
    "bmi = [24, 26, 22, 28, 30]\n",
    "\n",
    "pearson_corr_coeff, pearson_p_value = pearsonr(exercise_hours,bmi)\n",
    "\n",
    "spearman_corr_coeff, spearman_p_value = spearmanr(exercise_hours,bmi)\n",
    "\n",
    "print(\"Pearson Correlation Coefficient:\", pearson_corr_coeff)\n",
    "print(\"Pearson p-value:\", pearson_p_value)\n",
    "print(\"Spearman's Rank Correlation Coefficient:\", spearman_corr_coeff)\n",
    "print(\"Spearman p-value:\", spearman_p_value)\n"
   ]
  },
  {
   "cell_type": "code",
   "execution_count": 24,
   "id": "ae0813c6-6b5f-4307-99e5-a4154d326387",
   "metadata": {},
   "outputs": [
    {
     "name": "stdout",
     "output_type": "stream",
     "text": [
      "Interpretation:\n",
      "\n",
      "The Pearson correlation coefficient between the number of hours of exercise per week and BMI is approximately 0.894. This indicates a strong positive linear relationship between the two variables.\n",
      "\n",
      "The p-value for the Pearson correlation coefficient is approximately 0.047, which is less than the conventional significance level of 0.05. This suggests that the correlation is statistically significant, indicating that the relationship is unlikely to be due to random chance.\n",
      "\n",
      "The Spearman's rank correlation coefficient between the number of hours of exercise per week and BMI is approximately 0.8. This indicates a strong positive monotonic relationship between the two variables, although it may not be strictly linear.\n",
      "\n",
      "The p-value for the Spearman's rank correlation coefficient is approximately 0.117, which is greater than the conventional significance level of 0.05. This suggests that the correlation is not statistically significant, indicating that the relationship may be due to random chance.\n"
     ]
    }
   ],
   "source": [
    "print(\"Interpretation:\\n\\nThe Pearson correlation coefficient between the number of hours of exercise per week and BMI is approximately 0.894. This indicates a strong positive linear relationship between the two variables.\\n\\nThe p-value for the Pearson correlation coefficient is approximately 0.047, which is less than the conventional significance level of 0.05. This suggests that the correlation is statistically significant, indicating that the relationship is unlikely to be due to random chance.\\n\\nThe Spearman's rank correlation coefficient between the number of hours of exercise per week and BMI is approximately 0.8. This indicates a strong positive monotonic relationship between the two variables, although it may not be strictly linear.\\n\\nThe p-value for the Spearman's rank correlation coefficient is approximately 0.117, which is greater than the conventional significance level of 0.05. This suggests that the correlation is not statistically significant, indicating that the relationship may be due to random chance.\")"
   ]
  },
  {
   "cell_type": "code",
   "execution_count": 12,
   "id": "e91d595c-0ebe-4dd1-af40-eb161144a449",
   "metadata": {},
   "outputs": [
    {
     "name": "stdout",
     "output_type": "stream",
     "text": [
      "Q_4_ANS :- \n"
     ]
    }
   ],
   "source": [
    "print('''Q_4_ANS :- ''')"
   ]
  },
  {
   "cell_type": "code",
   "execution_count": 13,
   "id": "cf78420e-fff8-44c6-8389-4ec3f6438c16",
   "metadata": {},
   "outputs": [
    {
     "name": "stdout",
     "output_type": "stream",
     "text": [
      "Pearson Correlation Coefficient: -0.9922778767136677\n",
      " p-value 0.0008136455681979817\n"
     ]
    }
   ],
   "source": [
    "import numpy as np\n",
    "from scipy.stats import pearsonr\n",
    "\n",
    "tv_hours = [3, 2, 4, 1, 5]\n",
    "physical_activity = [5, 7, 3, 8, 2]\n",
    "\n",
    "correlation_coefficient, p_value = pearsonr(tv_hours,physical_activity)\n",
    "\n",
    "print(\"Pearson Correlation Coefficient:\",correlation_coefficient)\n",
    "print(\" p-value\", p_value)"
   ]
  },
  {
   "cell_type": "code",
   "execution_count": null,
   "id": "b8382ce3-caea-4718-9f11-2492ffb97e00",
   "metadata": {},
   "outputs": [],
   "source": [
    "print(\"Interpretation:\n",
    "The Pearson correlation coefficient measures the linear relationship between two variables, the number of hours individuals spend watching television per day and their level of physical activity. The correlation coefficient ranges from -1 to 1.\")"
   ]
  },
  {
   "cell_type": "code",
   "execution_count": 14,
   "id": "873b1297-c918-4735-a660-1ce55150896c",
   "metadata": {},
   "outputs": [
    {
     "name": "stdout",
     "output_type": "stream",
     "text": [
      "Q_5_ANS :- \n"
     ]
    }
   ],
   "source": [
    "print('''Q_5_ANS :- ''')"
   ]
  },
  {
   "cell_type": "code",
   "execution_count": 18,
   "id": "ee3aec08-fe07-41c3-9cab-88dbf9ee4ef6",
   "metadata": {},
   "outputs": [
    {
     "name": "stdout",
     "output_type": "stream",
     "text": [
      "Pearson Correlation Coefficient: 0.7691751415594736\n",
      "p-value: 0.07377098537821529\n"
     ]
    }
   ],
   "source": [
    "import numpy as np\n",
    "from scipy.stats import pearsonr\n",
    "from sklearn.preprocessing import LabelEncoder\n",
    "\n",
    "age = [25, 42, 37, 19, 31, 28]\n",
    "soft_drink_preference = ['coke','pepsi','mountain dew','coke','pepsi','coke']\n",
    "\n",
    "encoder = LabelEncoder()\n",
    "\n",
    "encoded_soft_drink_preference = encoder.fit_transform(soft_drink_preference)\n",
    "\n",
    "correlation_coefficient,p_value = pearsonr(age,encoded_soft_drink_preference)\n",
    "\n",
    "print(\"Pearson Correlation Coefficient:\",correlation_coefficient)\n",
    "print(\"p-value:\",p_value)"
   ]
  },
  {
   "cell_type": "code",
   "execution_count": 19,
   "id": "12706327-c616-4371-9251-f5afcf541bfe",
   "metadata": {},
   "outputs": [
    {
     "name": "stdout",
     "output_type": "stream",
     "text": [
      "Q_6_ANS :- \n"
     ]
    }
   ],
   "source": [
    "print('''Q_6_ANS :- ''')"
   ]
  },
  {
   "cell_type": "code",
   "execution_count": 21,
   "id": "535ca0d1-2394-404c-bdeb-74d30f2d2e40",
   "metadata": {},
   "outputs": [
    {
     "name": "stdout",
     "output_type": "stream",
     "text": [
      "Pearson Correlation Coefficient: 0.9200501537626988\n",
      "p-value: 0.026809105846069884\n"
     ]
    }
   ],
   "source": [
    "import numpy as np\n",
    "from scipy.stats import pearsonr\n",
    "\n",
    "\n",
    "sales_calls_per_day = [15, 10, 12, 18, 20]\n",
    "sales_per_week = [10, 8, 6, 12, 15]\n",
    "\n",
    "\n",
    "correlation_coefficient, p_value = pearsonr(sales_calls_per_day, sales_per_week)\n",
    "\n",
    "print(\"Pearson Correlation Coefficient:\", correlation_coefficient)\n",
    "print(\"p-value:\", p_value)\n"
   ]
  },
  {
   "cell_type": "code",
   "execution_count": null,
   "id": "f2fe971f-a1fb-4a59-b33e-4eeb3750235c",
   "metadata": {},
   "outputs": [],
   "source": []
  }
 ],
 "metadata": {
  "kernelspec": {
   "display_name": "Python 3 (ipykernel)",
   "language": "python",
   "name": "python3"
  },
  "language_info": {
   "codemirror_mode": {
    "name": "ipython",
    "version": 3
   },
   "file_extension": ".py",
   "mimetype": "text/x-python",
   "name": "python",
   "nbconvert_exporter": "python",
   "pygments_lexer": "ipython3",
   "version": "3.10.6"
  }
 },
 "nbformat": 4,
 "nbformat_minor": 5
}
